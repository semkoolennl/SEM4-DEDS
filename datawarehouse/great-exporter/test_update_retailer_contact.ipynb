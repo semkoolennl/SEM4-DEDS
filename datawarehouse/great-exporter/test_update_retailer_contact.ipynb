{
 "cells": [
  {
   "cell_type": "code",
   "execution_count": 2,
   "metadata": {},
   "outputs": [
    {
     "ename": "ImportError",
     "evalue": "attempted relative import with no known parent package",
     "output_type": "error",
     "traceback": [
      "\u001b[1;31m---------------------------------------------------------------------------\u001b[0m",
      "\u001b[1;31mImportError\u001b[0m                               Traceback (most recent call last)",
      "Cell \u001b[1;32mIn[2], line 1\u001b[0m\n\u001b[1;32m----> 1\u001b[0m \u001b[38;5;28;01mfrom\u001b[39;00m \u001b[38;5;21;01m.\u001b[39;00m\u001b[38;5;21;01m.\u001b[39;00m\u001b[38;5;21;01m.\u001b[39;00m\u001b[38;5;21;01mloaderManager\u001b[39;00m \u001b[38;5;28;01mimport\u001b[39;00m LoaderManager\n\u001b[0;32m      2\u001b[0m \u001b[38;5;28;01mfrom\u001b[39;00m \u001b[38;5;21;01m.\u001b[39;00m\u001b[38;5;21;01m.\u001b[39;00m\u001b[38;5;21;01m.\u001b[39;00m\u001b[38;5;21;01mexporters\u001b[39;00m \u001b[38;5;28;01mimport\u001b[39;00m RetailerContactTable\n\u001b[0;32m      3\u001b[0m \u001b[38;5;28;01mimport\u001b[39;00m \u001b[38;5;21;01mpandas\u001b[39;00m \u001b[38;5;28;01mas\u001b[39;00m \u001b[38;5;21;01mpd\u001b[39;00m\n",
      "\u001b[1;31mImportError\u001b[0m: attempted relative import with no known parent package"
     ]
    }
   ],
   "source": [
    "from loaderManager import LoaderManager\n",
    "from exporters import RetailerContactTable\n",
    "import pandas as pd\n",
    "\n",
    "lm     = LoaderManager()\n",
    "engine = lm.container.engine\n",
    "loader = lm.loaders['RetailerContactTable']"
   ]
  },
  {
   "cell_type": "code",
   "execution_count": null,
   "metadata": {},
   "outputs": [],
   "source": [
    "# Retrieve all contacts with job position 'District Manager'\n",
    "retailer_contact = pd.read_sql(\"SELECT * FROM RETAILER_CONTACT WHERE RETAILER_CONTACT_JOB_POSITION_EN = 'District Manager'\", engine) # type: ignore\n",
    "\n",
    "# Save the retailer contact to a file\n",
    "retailer_contact.to_html('examples/retailer_contact-before.html') # type: ignore\n",
    "\n",
    "retailer_contact"
   ]
  },
  {
   "cell_type": "code",
   "execution_count": null,
   "metadata": {},
   "outputs": [],
   "source": [
    "# Update the job position to 'District Manager - edited'\n",
    "retailer_contact['RETAILER_CONTACT_JOB_POSITION_EN'] = 'District Manager - edited'\n",
    "\n",
    "if not isinstance(loader, RetailerContactTable):\n",
    "    raise Exception(\"Loader is not of type RetailerContactTable\")\n",
    "\n",
    "# Update the retailer contact\n",
    "result = loader.updateLoad(retailer_contact) # type: ignore\n",
    "\n",
    "# Save the updated retailer contact to the database\n",
    "result.to_sql('RETAILER_CONTACT', engine, if_exists='append', index=False) # type: ignore\n",
    "\n",
    "result"
   ]
  },
  {
   "cell_type": "code",
   "execution_count": null,
   "metadata": {},
   "outputs": [],
   "source": [
    "# Load the updated retailer contact from the database\n",
    "retailer_contact = pd.read_sql(\"SELECT * FROM RETAILER_CONTACT WHERE RETAILER_CONTACT_JOB_POSITION_EN = 'District Manager - edited'\", engine) # type: ignore\n",
    "\n",
    "# Save the updated retailer contact to a file\n",
    "retailer_contact.to_html('examples/retailer_contact-after.html') # type: ignore\n",
    "\n",
    "retailer_contact"
   ]
  }
 ],
 "metadata": {
  "kernelspec": {
   "display_name": ".venv",
   "language": "python",
   "name": "python3"
  },
  "language_info": {
   "codemirror_mode": {
    "name": "ipython",
    "version": 3
   },
   "file_extension": ".py",
   "mimetype": "text/x-python",
   "name": "python",
   "nbconvert_exporter": "python",
   "pygments_lexer": "ipython3",
   "version": "3.12.2"
  }
 },
 "nbformat": 4,
 "nbformat_minor": 2
}
