{
 "cells": [
  {
   "cell_type": "code",
   "execution_count": 33,
   "metadata": {},
   "outputs": [],
   "source": [
    "import pandas as pd\n",
    "from utils import *"
   ]
  },
  {
   "cell_type": "code",
   "execution_count": 34,
   "metadata": {},
   "outputs": [],
   "source": [
    "# -- ORDER doeltabel --\n",
    "\n",
    "# ORDER_HEADER_order_number\n",
    "# ORDER_DETAILS_order_detail_code\n",
    "# ORDER_DETAILS_unit_cost\n",
    "# ORDER_DETAILS_unit_price\n",
    "# ORDER_DETAILS_unit_sale_price\n",
    "# ORDER_DETAILS_quantity\n",
    "# PRODUCT_production_cost\n",
    "# PRODUCT_margin\n",
    "# ORDER_profitability_index*\n",
    "# ORDER_cvp_ratio*\n",
    "# ORDER_sales_efficiency*\n",
    "# PRODUCT_number\n",
    "# DATE_order_date\n",
    "# RETAILER_SITE_code\n",
    "# RETAILER_CONTACT_code\n",
    "# SALES_STAFF_code\n",
    "# SALES_BRANCH_code \n",
    "# ORDER_METHOD_code"
   ]
  },
  {
   "cell_type": "code",
   "execution_count": 35,
   "metadata": {},
   "outputs": [],
   "source": [
    "go_sales = load_db('source/go_sales.sqlite')"
   ]
  },
  {
   "cell_type": "code",
   "execution_count": 36,
   "metadata": {},
   "outputs": [],
   "source": [
    "# Load all required tables here\n",
    "order_header = load_table(go_sales, 'ORDER_HEADER')\n",
    "order_details = load_table(go_sales, 'ORDER_DETAILS')\n",
    "product = load_table(go_sales, 'PRODUCT')"
   ]
  },
  {
   "cell_type": "code",
   "execution_count": 37,
   "metadata": {},
   "outputs": [],
   "source": [
    "# Remove unwanted columns, and add prefixes to the column names\n",
    "order_header = order_header[[\n",
    "    'ORDER_NUMBER', \n",
    "    'RETAILER_SITE_CODE', \n",
    "    'ORDER_METHOD_CODE',\n",
    "    'SALES_STAFF_CODE',\n",
    "    'SALES_BRANCH_CODE',\n",
    "]].add_prefix('ORDER_HEADER_')\n",
    "\n",
    "order_details = order_details[[\n",
    "    'ORDER_NUMBER',\n",
    "    'ORDER_DETAIL_CODE',\n",
    "    'PRODUCT_NUMBER',\n",
    "    'UNIT_COST',\n",
    "    'UNIT_PRICE',\n",
    "    'UNIT_SALE_PRICE',\n",
    "    'QUANTITY'\n",
    "]].add_prefix('ORDER_DETAILS_')\n",
    "\n",
    "product = product[[\n",
    "    'PRODUCT_NUMBER', \n",
    "    'PRODUCTION_COST', \n",
    "    'MARGIN'\n",
    "]].add_prefix('PRODUCT_')"
   ]
  },
  {
   "cell_type": "code",
   "execution_count": 38,
   "metadata": {},
   "outputs": [],
   "source": [
    "# Merge the tables\n",
    "# order_details.order_number = order_header.order_number\n",
    "# order_details.order_number = product.product_number\n",
    "\n",
    "order = pd.merge(order_details, order_header, left_on='ORDER_DETAILS_ORDER_NUMBER', right_on='ORDER_HEADER_ORDER_NUMBER').drop('ORDER_DETAILS_ORDER_NUMBER', axis=1)\n",
    "order = pd.merge(order, product, left_on='ORDER_DETAILS_PRODUCT_NUMBER', right_on='PRODUCT_PRODUCT_NUMBER').drop('ORDER_DETAILS_PRODUCT_NUMBER', axis=1)\n",
    "\n",
    "print_columns(order)"
   ]
  },
  {
   "cell_type": "code",
   "execution_count": 39,
   "metadata": {},
   "outputs": [
    {
     "name": "stdout",
     "output_type": "stream",
     "text": [
      "ORDER_DETAILS_ORDER_DETAIL_CODE\n",
      "ORDER_DETAILS_UNIT_COST\n",
      "ORDER_DETAILS_UNIT_PRICE\n",
      "ORDER_DETAILS_UNIT_SALE_PRICE\n",
      "ORDER_DETAILS_QUANTITY\n",
      "ORDER_HEADER_ORDER_NUMBER\n",
      "ORDER_HEADER_RETAILER_SITE_CODE\n",
      "ORDER_HEADER_ORDER_METHOD_CODE\n",
      "PRODUCT_PRODUCT_NUMBER\n",
      "PRODUCT_PRODUCTION_COST\n",
      "PRODUCT_MARGIN\n"
     ]
    }
   ],
   "source": [
    "# Rename columns\n",
    "# ORDER_HEADER_ORDER_METHOD_CODE -> ORDER_METHOD_CODE\n",
    "# ORDER_HEADER_RETAILER_SITE_CODE -> RETAILER_SITE_CODE\n",
    "# ORDER_HEADER_RETAILER_CONTACT_CODE -> RETAILER_CONTACT_CODE\n",
    "\n",
    "order = order.rename(columns={\n",
    "    'ORDER_HEADER_ORDER_METHOD_CODE': 'ORDER_METHOD_CODE',\n",
    "    'ORDER_HEADER_RETAILER_SITE_CODE': 'RETAILER_SITE_CODE',\n",
    "    'ORDER_HEADER_RETAILER_CONTACT_CODE': 'RETAILER_CONTACT_CODE',\n",
    "    'ORDER_HEADER_SALES_STAFF_CODE': 'SALES_STAFF_CODE',\n",
    "    'ORDER_HEADER_SALES_BRANCH_CODE': 'SALES_BRANCH_CODE',\n",
    "})"
   ]
  },
  {
   "cell_type": "code",
   "execution_count": 43,
   "metadata": {},
   "outputs": [
    {
     "data": {
      "text/plain": [
       "ORDER_DETAILS_ORDER_DETAIL_CODE     object\n",
       "ORDER_DETAILS_UNIT_COST            float64\n",
       "ORDER_DETAILS_UNIT_PRICE           float64\n",
       "ORDER_DETAILS_UNIT_SALE_PRICE      float64\n",
       "ORDER_DETAILS_QUANTITY               int64\n",
       "ORDER_HEADER_ORDER_NUMBER           object\n",
       "ORDER_HEADER_RETAILER_SITE_CODE     object\n",
       "ORDER_HEADER_ORDER_METHOD_CODE      object\n",
       "PRODUCT_PRODUCT_NUMBER              object\n",
       "PRODUCT_PRODUCTION_COST            float64\n",
       "PRODUCT_MARGIN                     float64\n",
       "dtype: object"
      ]
     },
     "execution_count": 43,
     "metadata": {},
     "output_type": "execute_result"
    }
   ],
   "source": [
    "# Transform colums to the right type\n",
    "\n",
    "order['ORDER_DETAILS_UNIT_COST'] = order['ORDER_DETAILS_UNIT_COST'].astype(float)\n",
    "order['ORDER_DETAILS_UNIT_PRICE'] = order['ORDER_DETAILS_UNIT_PRICE'].astype(float)\n",
    "order['ORDER_DETAILS_UNIT_SALE_PRICE'] = order['ORDER_DETAILS_UNIT_SALE_PRICE'].astype(float)\n",
    "order['ORDER_DETAILS_QUANTITY'] = order['ORDER_DETAILS_QUANTITY'].astype(int)\n",
    "order['PRODUCT_PRODUCTION_COST'] = order['PRODUCT_PRODUCTION_COST'].astype(float)\n",
    "order['PRODUCT_MARGIN'] = order['PRODUCT_MARGIN'].astype(float)\n",
    "\n",
    "order.dtypes"
   ]
  },
  {
   "cell_type": "code",
   "execution_count": 42,
   "metadata": {},
   "outputs": [
    {
     "data": {
      "text/plain": [
       "ORDER_DETAILS_ORDER_DETAIL_CODE    object\n",
       "ORDER_DETAILS_UNIT_COST            object\n",
       "ORDER_DETAILS_UNIT_PRICE           object\n",
       "ORDER_DETAILS_UNIT_SALE_PRICE      object\n",
       "ORDER_DETAILS_QUANTITY              int64\n",
       "ORDER_HEADER_ORDER_NUMBER          object\n",
       "ORDER_HEADER_RETAILER_SITE_CODE    object\n",
       "ORDER_HEADER_ORDER_METHOD_CODE     object\n",
       "PRODUCT_PRODUCT_NUMBER             object\n",
       "PRODUCT_PRODUCTION_COST            object\n",
       "PRODUCT_MARGIN                     object\n",
       "dtype: object"
      ]
     },
     "execution_count": 42,
     "metadata": {},
     "output_type": "execute_result"
    }
   ],
   "source": [
    "# Add new calculated columns\n",
    "# ORDER_PROFITABILITY_INDEX = PRODUCT_MARGIN / PRODUCT_PRODUCTION_COST\n",
    "# ORDER_CVP_RATIO = (ORDER_DETAILS_UNIT_SALE_PRICE - ORDER_DETAILS_UNIT_COST) / ORDER_DETAILS_UNIT_SALE_PRICE\n",
    "# ORDER_SALES_EFFICIENCY = ORDER_DETAILS_UNIT_SALE_PRICE / PRODUCT_PRODUCION_COST\n",
    "\n",
    "order['ORDER_PROFITABILITY_INDEX'] = order['PRODUCT_MARGIN'] / order['PRODUCT_PRODUCTION_COST']\n",
    "order['ORDER_CVP_RATIO'] = (order['ORDER_DETAILS_UNIT_SALE_PRICE'] - order['ORDER_DETAILS_UNIT_COST']) / order['ORDER_DETAILS_UNIT_SALE_PRICE']\n",
    "order['ORDER_SALES_EFFICIENCY'] = order['ORDER_DETAILS_UNIT_SALE_PRICE'] / order['PRODUCT_PRODUCTION_COST']\n",
    "\n",
    "order"
   ]
  }
 ],
 "metadata": {
  "kernelspec": {
   "display_name": ".venv",
   "language": "python",
   "name": "python3"
  },
  "language_info": {
   "codemirror_mode": {
    "name": "ipython",
    "version": 3
   },
   "file_extension": ".py",
   "mimetype": "text/x-python",
   "name": "python",
   "nbconvert_exporter": "python",
   "pygments_lexer": "ipython3",
   "version": "3.12.1"
  }
 },
 "nbformat": 4,
 "nbformat_minor": 2
}
