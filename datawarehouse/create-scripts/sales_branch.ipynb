{
 "cells": [
  {
   "cell_type": "code",
   "execution_count": 1,
   "metadata": {},
   "outputs": [
    {
     "name": "stderr",
     "output_type": "stream",
     "text": [
      "C:\\Users\\joren\\AppData\\Local\\Temp\\ipykernel_16756\\1421855552.py:1: DeprecationWarning: \n",
      "Pyarrow will become a required dependency of pandas in the next major release of pandas (pandas 3.0),\n",
      "(to allow more performant data types, such as the Arrow string type, and better interoperability with other libraries)\n",
      "but was not found to be installed on your system.\n",
      "If this would cause problems for you,\n",
      "please provide us feedback at https://github.com/pandas-dev/pandas/issues/54466\n",
      "        \n",
      "  import pandas as pd\n"
     ]
    }
   ],
   "source": [
    "import pandas as pd\n",
    "from utils import *"
   ]
  },
  {
   "cell_type": "code",
   "execution_count": 2,
   "metadata": {},
   "outputs": [],
   "source": [
    "# -- SALES_BRANCH doeltabel --\n",
    "\n",
    "# SALES_BRANCH_CODE\n",
    "# SALES_BRANCH_REGION\n",
    "# SALES_BRANCH_CITY\n",
    "# SALES_BRANCH_POSTAL_CODE\n",
    "# SALES_BRANCH_ADDRESS1\n",
    "# SALES_BRANCH_ADDRESS2\n",
    "# SALES_STAFF_SALES_STAFF_CODE\n",
    "# SALES_STAFF_MANAGER_CODE\n",
    "# SALES_STAFF_FIRST_NAME\n",
    "# SALES_STAFF_LAST_NAME\n",
    "# SALES_STAFF_POSITION_EN\n",
    "# SALES_STAFF_WORK_PHONE\n",
    "# SALES_STAFF_FAX\n",
    "# SALES_STAFF_EXTENSION\n",
    "# SALES_STAFF_EMAIL\n",
    "# SALES_STAFF_DATE_HIRED\n",
    "# COUNTRY_COUNTRY_CODE\n",
    "# COUNTRY_COUNTRY\n",
    "# COUNTRY_LANGUAGE\n",
    "# COUNTRY_CURRENCY_NAME"
   ]
  },
  {
   "cell_type": "code",
   "execution_count": 3,
   "metadata": {},
   "outputs": [],
   "source": [
    "go_sales = load_db('source/go_sales.sqlite')"
   ]
  },
  {
   "cell_type": "code",
   "execution_count": 4,
   "metadata": {},
   "outputs": [],
   "source": [
    "sales_branch = load_table(go_sales, 'SALES_BRANCH')\n",
    "sales_staff = load_table(go_sales, 'SALES_STAFF')\n",
    "sales_country = load_table(go_sales, 'COUNTRY')\n"
   ]
  },
  {
   "cell_type": "code",
   "execution_count": null,
   "metadata": {},
   "outputs": [],
   "source": []
  }
 ],
 "metadata": {
  "kernelspec": {
   "display_name": ".venv",
   "language": "python",
   "name": "python3"
  },
  "language_info": {
   "codemirror_mode": {
    "name": "ipython",
    "version": 3
   },
   "file_extension": ".py",
   "mimetype": "text/x-python",
   "name": "python",
   "nbconvert_exporter": "python",
   "pygments_lexer": "ipython3",
   "version": "3.12.1"
  }
 },
 "nbformat": 4,
 "nbformat_minor": 2
}
