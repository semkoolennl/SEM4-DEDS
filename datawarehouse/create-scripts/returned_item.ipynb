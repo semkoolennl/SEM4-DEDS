{
 "cells": [
  {
   "cell_type": "code",
   "execution_count": 2,
   "metadata": {},
   "outputs": [
    {
     "name": "stderr",
     "output_type": "stream",
     "text": [
      "C:\\Users\\joren\\AppData\\Local\\Temp\\ipykernel_9044\\1421855552.py:1: DeprecationWarning: \n",
      "Pyarrow will become a required dependency of pandas in the next major release of pandas (pandas 3.0),\n",
      "(to allow more performant data types, such as the Arrow string type, and better interoperability with other libraries)\n",
      "but was not found to be installed on your system.\n",
      "If this would cause problems for you,\n",
      "please provide us feedback at https://github.com/pandas-dev/pandas/issues/54466\n",
      "        \n",
      "  import pandas as pd\n"
     ]
    }
   ],
   "source": [
    "import pandas as pd\n",
    "from utils import *"
   ]
  },
  {
   "cell_type": "code",
   "execution_count": 3,
   "metadata": {},
   "outputs": [],
   "source": [
    "# -- ORDER doeltabel --\n",
    "\n",
    "# RETURNED_ITEM_return_code\n",
    "# RETURNED_ITEM_return_quantity\n",
    "# ORDER_DETAILS_unit_cost\n",
    "# ORDER_DETAILS_unit_price\n",
    "# ORDER_DETAILS_unit_sale_price\n",
    "# ORDER_DETAILS_quantity\n",
    "# DATE_returned_date\n",
    "# ORDER_DETAILS_order_detail_code\n",
    "# RETURN_REASON_return_reason_code"
   ]
  },
  {
   "cell_type": "code",
   "execution_count": 4,
   "metadata": {},
   "outputs": [],
   "source": [
    "go_sales = load_db('source/go_sales.sqlite')"
   ]
  },
  {
   "cell_type": "code",
   "execution_count": 5,
   "metadata": {},
   "outputs": [],
   "source": [
    "returned_item = load_table(go_sales, 'RETURNED_ITEM')\n",
    "order_details = load_table(go_sales, 'ORDER_DETAILS')\n",
    "return_reason = load_table(go_sales, 'RETURN_REASON')\n",
    "# TODO: date"
   ]
  }
 ],
 "metadata": {
  "kernelspec": {
   "display_name": ".venv",
   "language": "python",
   "name": "python3"
  },
  "language_info": {
   "codemirror_mode": {
    "name": "ipython",
    "version": 3
   },
   "file_extension": ".py",
   "mimetype": "text/x-python",
   "name": "python",
   "nbconvert_exporter": "python",
   "pygments_lexer": "ipython3",
   "version": "3.12.1"
  }
 },
 "nbformat": 4,
 "nbformat_minor": 2
}
