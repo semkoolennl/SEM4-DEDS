{
 "cells": [
  {
   "cell_type": "code",
   "execution_count": 8,
   "metadata": {},
   "outputs": [],
   "source": [
    "import pandas as pd\n",
    "from utils import *"
   ]
  },
  {
   "cell_type": "code",
   "execution_count": 9,
   "metadata": {},
   "outputs": [],
   "source": [
    "# -- RETAILER doeltabel --\n",
    "\n",
    "# RETAILER_RETAILER_CODE\n",
    "# RETAILER_RETAILER_CODEMR\n",
    "# RETAILER_COMPANY_NAME\n",
    "# RETAILER_SITE_RETAILER_SITE_CODE\n",
    "# RETAILER_SITE_ADDRESS1\n",
    "# RETAILER_SITE_ADDRESS2\n",
    "# RETAILER_SITE_CITY\n",
    "# RETAILER_SITE_REGION\n",
    "# RETAILER_SITE_POSTAL_CODE\n",
    "# RETAILER_SITE_ACTIVATE_INDICATOR\n",
    "# SALES_TERRIRTORY_SALES_TERRITORY_CODE\n",
    "# SALES_TERRIRTORY_TERRITORY_EN\n",
    "# RETAILER_COUNTRY_COUNTRY_CODE \n",
    "# RETAILER_COUNTRY_COUNTRY_EN\n",
    "# RETAILER_COUNTRY_FLAG_IMAGE\n",
    "# RETAILER_TYPE_RETAILER_TYPE_CODE\n",
    "# RETAILER_TYPE_RETAILER_TYPE_EN"
   ]
  },
  {
   "cell_type": "code",
   "execution_count": 10,
   "metadata": {},
   "outputs": [],
   "source": [
    "go_crm = load_db('source/go_crm.sqlite')"
   ]
  },
  {
   "cell_type": "code",
   "execution_count": 11,
   "metadata": {},
   "outputs": [],
   "source": [
    "retailer = load_table(go_crm, 'RETAILER')\n",
    "retailer_site = load_table(go_crm, 'RETAILER_SITE')\n",
    "sales_territory = load_table(go_crm, 'SALES_TERRITORY')\n",
    "retailer_country = load_table(go_crm, 'COUNTRY')\n",
    "retailer_type = load_table(go_crm, 'RETAILER_TYPE')\n"
   ]
  }
 ],
 "metadata": {
  "kernelspec": {
   "display_name": ".venv",
   "language": "python",
   "name": "python3"
  },
  "language_info": {
   "codemirror_mode": {
    "name": "ipython",
    "version": 3
   },
   "file_extension": ".py",
   "mimetype": "text/x-python",
   "name": "python",
   "nbconvert_exporter": "python",
   "pygments_lexer": "ipython3",
   "version": "3.12.1"
  }
 },
 "nbformat": 4,
 "nbformat_minor": 2
}
