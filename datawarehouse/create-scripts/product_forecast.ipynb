{
 "cells": [
  {
   "cell_type": "code",
   "execution_count": null,
   "metadata": {},
   "outputs": [],
   "source": [
    "import pandas as pd\n",
    "from utils import *"
   ]
  },
  {
   "cell_type": "code",
   "execution_count": null,
   "metadata": {},
   "outputs": [],
   "source": [
    "# -- PRODUCT_FORECAST doeltabel --\n",
    "\n",
    "# PRODUCT_FORECAST_ID\n",
    "# PRODUCT_FORECAST_expected_volume\n",
    "# INVENTORY_LEVELS_DATA_inventory_count\n",
    "# PRODUCT_production_cost\n",
    "# PRODUCT_margin\n",
    "# YEAR_MONTH_year\n",
    "# YEAR_MONTH_month\n",
    "# PRODUCT_product_number"
   ]
  },
  {
   "cell_type": "code",
   "execution_count": null,
   "metadata": {},
   "outputs": [],
   "source": []
  },
  {
   "cell_type": "code",
   "execution_count": null,
   "metadata": {},
   "outputs": [],
   "source": []
  }
 ],
 "metadata": {
  "kernelspec": {
   "display_name": ".venv",
   "language": "python",
   "name": "python3"
  },
  "language_info": {
   "name": "python",
   "version": "3.12.1"
  }
 },
 "nbformat": 4,
 "nbformat_minor": 2
}
