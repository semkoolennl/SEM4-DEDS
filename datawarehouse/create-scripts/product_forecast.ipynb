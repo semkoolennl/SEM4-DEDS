{
 "cells": [
  {
   "cell_type": "code",
   "execution_count": 5,
   "metadata": {},
   "outputs": [],
   "source": [
    "import pandas as pd\n",
    "from utils import *"
   ]
  },
  {
   "cell_type": "code",
   "execution_count": 6,
   "metadata": {},
   "outputs": [],
   "source": [
    "# -- PRODUCT_FORECAST doeltabel --\n",
    "\n",
    "# PRODUCT_FORECAST_ID\n",
    "# PRODUCT_FORECAST_EXPECTED_VOLUME\n",
    "# INVENTORY_LEVELS_DATA_INVENTORY_COUNT\n",
    "# PRODUCT_PRODUCTION_COST\n",
    "# PRODUCT_MARGIN\n",
    "# YEAR_MONTH_YEAR (komt uit product_forecast)\n",
    "# YEAR_MONTH_MONTH (komt uit product_forecast)\n",
    "# PRODUCT_PRODUCT_NUMBER"
   ]
  },
  {
   "cell_type": "code",
   "execution_count": 7,
   "metadata": {},
   "outputs": [],
   "source": [
    "go_sales = load_db('source/go_sales.sqlite')"
   ]
  },
  {
   "cell_type": "code",
   "execution_count": 8,
   "metadata": {},
   "outputs": [],
   "source": [
    "product_forecast = load_csv('source/GO_SALES_PRODUCT_FORECASTData.csv')\n",
    "inventory_levels_data = load_csv('source/GO_SALES_INVENTORY_LEVELSData.csv')\n",
    "product = load_table(go_sales, 'PRODUCT')"
   ]
  },
  {
   "cell_type": "code",
   "execution_count": null,
   "metadata": {},
   "outputs": [],
   "source": []
  }
 ],
 "metadata": {
  "kernelspec": {
   "display_name": ".venv",
   "language": "python",
   "name": "python3"
  },
  "language_info": {
   "codemirror_mode": {
    "name": "ipython",
    "version": 3
   },
   "file_extension": ".py",
   "mimetype": "text/x-python",
   "name": "python",
   "nbconvert_exporter": "python",
   "pygments_lexer": "ipython3",
   "version": "3.12.1"
  }
 },
 "nbformat": 4,
 "nbformat_minor": 2
}
