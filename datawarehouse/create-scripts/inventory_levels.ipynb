{
 "cells": [
  {
   "cell_type": "code",
   "execution_count": 3,
   "metadata": {},
   "outputs": [],
   "source": [
    "import pandas as pd\n",
    "from utils import *"
   ]
  },
  {
   "cell_type": "code",
   "execution_count": 4,
   "metadata": {},
   "outputs": [],
   "source": [
    "# -- INVENTORY_LEVELS doeltabel --\n",
    "\n",
    "# INVENTORY_LEVELS_ID (pk)\n",
    "# INVENTORY_LEVELS_inventory_count\n",
    "# PRODUCT_production_cost\n",
    "# PRODUCT_margin\n",
    "# ORDER_DETAILS_unit_cost\n",
    "# ORDER_DETAILS_unit_price\n",
    "# ORDER_DETAILS_unit_sale_price\n",
    "# ORDER_DETAILS_quantity\n",
    "# INVENTORY_LEVELS_turnover_rate* (calculateTurnoverRate(): turnover_rate = quantity / inventory_count)\n",
    "# PRODUCT_product_number (fk uit ORDER_DETAILS)"
   ]
  },
  {
   "cell_type": "code",
   "execution_count": 5,
   "metadata": {},
   "outputs": [],
   "source": [
    "go_sales = load_db('source/go_sales.sqlite')"
   ]
  },
  {
   "cell_type": "code",
   "execution_count": 6,
   "metadata": {},
   "outputs": [],
   "source": [
    "inventory_levels = load_csv('source/GO_SALES_INVENTORY_LEVELSData.csv')\n",
    "product = load_table(go_sales, 'PRODUCT')\n",
    "order_details = load_table(go_sales, 'ORDER_DETAILS')"
   ]
  }
 ],
 "metadata": {
  "kernelspec": {
   "display_name": ".venv",
   "language": "python",
   "name": "python3"
  },
  "language_info": {
   "codemirror_mode": {
    "name": "ipython",
    "version": 3
   },
   "file_extension": ".py",
   "mimetype": "text/x-python",
   "name": "python",
   "nbconvert_exporter": "python",
   "pygments_lexer": "ipython3",
   "version": "3.12.1"
  }
 },
 "nbformat": 4,
 "nbformat_minor": 2
}
