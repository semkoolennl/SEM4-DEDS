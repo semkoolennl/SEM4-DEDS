{
 "cells": [
  {
   "cell_type": "code",
   "execution_count": 1,
   "metadata": {},
   "outputs": [
    {
     "name": "stderr",
     "output_type": "stream",
     "text": [
      "C:\\Users\\joren\\AppData\\Local\\Temp\\ipykernel_11384\\1421855552.py:1: DeprecationWarning: \n",
      "Pyarrow will become a required dependency of pandas in the next major release of pandas (pandas 3.0),\n",
      "(to allow more performant data types, such as the Arrow string type, and better interoperability with other libraries)\n",
      "but was not found to be installed on your system.\n",
      "If this would cause problems for you,\n",
      "please provide us feedback at https://github.com/pandas-dev/pandas/issues/54466\n",
      "        \n",
      "  import pandas as pd\n"
     ]
    }
   ],
   "source": [
    "import pandas as pd\n",
    "from utils import *"
   ]
  },
  {
   "cell_type": "code",
   "execution_count": 2,
   "metadata": {},
   "outputs": [],
   "source": [
    "# -- SALES_TARGET_DATA doeltabel --\n",
    "\n",
    "# SALES_TARGET_DATA_id\n",
    "# SALES_TARGET_DATA_sales-target\n",
    "# SALES_TARGET_DATA_productivity_score* (calculateSPS(): (UNIT_PRICE * QUANTITY) / SALES_TARGET)\n",
    "\n",
    "# ORDER_DETAILS_unit_cost\n",
    "# ORDER_DETAILS_unit_price\n",
    "# ORDER_DETAILS_unit_sale_price\n",
    "# ORDER_DETAILS_quanitty\n",
    "\n",
    "# SALES_STAFF_code\n",
    "# SALES_BRANCH_code\n",
    "# PRODUCT_number\n",
    "# RETAILER_code"
   ]
  },
  {
   "cell_type": "code",
   "execution_count": 3,
   "metadata": {},
   "outputs": [],
   "source": [
    "go_sales = load_db('source/go_sales.sqlite')\n",
    "go_crm = load_db('source/go_crm.sqlite')"
   ]
  },
  {
   "cell_type": "code",
   "execution_count": 4,
   "metadata": {},
   "outputs": [],
   "source": [
    "sales_target_data = load_table(go_sales, 'SALES_TARGETData')\n",
    "order_details = load_table(go_sales, 'ORDER_DETAILS')\n",
    "sales_staff = load_table(go_sales, 'SALES_STAFF')\n",
    "sales_branch = load_table(go_sales, 'SALES_BRANCH')\n",
    "product = load_table(go_sales, 'PRODUCT')\n",
    "retailer = load_table(go_crm, 'RETAILER')"
   ]
  }
 ],
 "metadata": {
  "kernelspec": {
   "display_name": ".venv",
   "language": "python",
   "name": "python3"
  },
  "language_info": {
   "codemirror_mode": {
    "name": "ipython",
    "version": 3
   },
   "file_extension": ".py",
   "mimetype": "text/x-python",
   "name": "python",
   "nbconvert_exporter": "python",
   "pygments_lexer": "ipython3",
   "version": "3.12.1"
  }
 },
 "nbformat": 4,
 "nbformat_minor": 2
}
