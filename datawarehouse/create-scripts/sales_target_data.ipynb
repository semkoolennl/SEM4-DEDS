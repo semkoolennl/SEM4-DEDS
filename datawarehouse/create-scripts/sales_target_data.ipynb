{
 "cells": [
  {
   "cell_type": "code",
   "execution_count": 5,
   "metadata": {},
   "outputs": [],
   "source": [
    "import pandas as pd\n",
    "from utils import *"
   ]
  },
  {
   "cell_type": "code",
   "execution_count": 6,
   "metadata": {},
   "outputs": [],
   "source": [
    "# -- SALES_TARGET_DATA doeltabel --\n",
    "\n",
    "# SALES_TARGET_DATA_ID\n",
    "# SALES_TARGET_DATA_SALES-TARGET\n",
    "# SALES_TARGET_DATA_PRODUCTIVITY_SCORE* (calculateSPS(): (UNIT_PRICE * QUANTITY) / SALES_TARGET)\n",
    "\n",
    "# ORDER_DETAILS_UNIT_COST\n",
    "# ORDER_DETAILS_UNIT_PRICE\n",
    "# ORDER_DETAILS_UNIT_SALE_PRICE\n",
    "# ORDER_DETAILS_QUANTITY\n",
    "\n",
    "# SALES_STAFF_CODE\n",
    "# SALES_BRANCH_CODE\n",
    "# PRODUCT_NUMBER\n",
    "# RETAILER_CODE"
   ]
  },
  {
   "cell_type": "code",
   "execution_count": 7,
   "metadata": {},
   "outputs": [],
   "source": [
    "go_sales = load_db('source/go_sales.sqlite')\n",
    "go_crm = load_db('source/go_crm.sqlite')"
   ]
  },
  {
   "cell_type": "code",
   "execution_count": 8,
   "metadata": {},
   "outputs": [],
   "source": [
    "sales_target_data = load_table(go_sales, 'SALES_TARGETData')\n",
    "order_details = load_table(go_sales, 'ORDER_DETAILS')\n",
    "sales_staff = load_table(go_sales, 'SALES_STAFF')\n",
    "sales_branch = load_table(go_sales, 'SALES_BRANCH')\n",
    "product = load_table(go_sales, 'PRODUCT')\n",
    "retailer = load_table(go_crm, 'RETAILER')"
   ]
  }
 ],
 "metadata": {
  "kernelspec": {
   "display_name": ".venv",
   "language": "python",
   "name": "python3"
  },
  "language_info": {
   "codemirror_mode": {
    "name": "ipython",
    "version": 3
   },
   "file_extension": ".py",
   "mimetype": "text/x-python",
   "name": "python",
   "nbconvert_exporter": "python",
   "pygments_lexer": "ipython3",
   "version": "3.12.1"
  }
 },
 "nbformat": 4,
 "nbformat_minor": 2
}
